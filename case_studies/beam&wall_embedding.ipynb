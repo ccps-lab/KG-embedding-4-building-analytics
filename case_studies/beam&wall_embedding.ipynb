{
 "cells": [
  {
   "cell_type": "markdown",
   "id": "e2df16a4",
   "metadata": {},
   "source": [
    "## Data exploration"
   ]
  },
  {
   "cell_type": "markdown",
   "id": "1b3087c0",
   "metadata": {},
   "source": [
    "The following code blocks are shared to ensure reproducability of the results reported to a research paper that has been submitted to EC3-2022 conference (https://ec-3.org/conference2022/) "
   ]
  },
  {
   "cell_type": "code",
   "execution_count": 1,
   "id": "d544afe0",
   "metadata": {
    "scrolled": true
   },
   "outputs": [],
   "source": [
    "import pandas as pd\n",
    "import rdflib"
   ]
  },
  {
   "cell_type": "code",
   "execution_count": 2,
   "id": "3473dd17",
   "metadata": {},
   "outputs": [
    {
     "data": {
      "text/plain": [
       "<Graph identifier=Nd527cb475cab41ed80eed54b8ef1f945 (<class 'rdflib.graph.Graph'>)>"
      ]
     },
     "execution_count": 2,
     "metadata": {},
     "output_type": "execute_result"
    }
   ],
   "source": [
    "g = rdflib.Graph()\n",
    "g.parse(\"Data/02_BIMcollab_Example_STR.ttl\", format=\"ttl\")"
   ]
  },
  {
   "cell_type": "code",
   "execution_count": 3,
   "id": "d9560148",
   "metadata": {
    "scrolled": true
   },
   "outputs": [
    {
     "name": "stdout",
     "output_type": "stream",
     "text": [
      "Found beam elements:  http://linkedbuildingdata.net/ifc/resources20170901_130950/IfcBeam_12503\n",
      "Found beam elements:  http://linkedbuildingdata.net/ifc/resources20170901_130950/IfcBeam_12542\n",
      "Found beam elements:  http://linkedbuildingdata.net/ifc/resources20170901_130950/IfcBeam_12587\n",
      "Found beam elements:  http://linkedbuildingdata.net/ifc/resources20170901_130950/IfcBeam_12636\n",
      "Found beam elements:  http://linkedbuildingdata.net/ifc/resources20170901_130950/IfcBeam_12675\n",
      "Found beam elements:  http://linkedbuildingdata.net/ifc/resources20170901_130950/IfcBeam_12714\n",
      "Found beam elements:  http://linkedbuildingdata.net/ifc/resources20170901_130950/IfcBeam_12753\n",
      "Found beam elements:  http://linkedbuildingdata.net/ifc/resources20170901_130950/IfcBeam_12791\n",
      "Found beam elements:  http://linkedbuildingdata.net/ifc/resources20170901_130950/IfcBeam_12830\n",
      "Found beam elements:  http://linkedbuildingdata.net/ifc/resources20170901_130950/IfcBeam_12869\n"
     ]
    }
   ],
   "source": [
    "# limiting query results to 10\n",
    "q_findBeam = g.query(\"SELECT ?s WHERE { ?s rdf:type  ifcowl:IfcBeam .} LIMIT 10\") \n",
    "for row in q_findBeam:\n",
    "    print(f\"Found beam elements:  {row.s}\")"
   ]
  },
  {
   "cell_type": "code",
   "execution_count": 4,
   "id": "45c2456f",
   "metadata": {
    "scrolled": true
   },
   "outputs": [
    {
     "name": "stdout",
     "output_type": "stream",
     "text": [
      "Found wall elements:  http://linkedbuildingdata.net/ifc/resources20170901_130950/IfcBeam_12503\n",
      "Found wall elements:  http://linkedbuildingdata.net/ifc/resources20170901_130950/IfcBeam_12542\n",
      "Found wall elements:  http://linkedbuildingdata.net/ifc/resources20170901_130950/IfcBeam_12587\n",
      "Found wall elements:  http://linkedbuildingdata.net/ifc/resources20170901_130950/IfcBeam_12636\n",
      "Found wall elements:  http://linkedbuildingdata.net/ifc/resources20170901_130950/IfcBeam_12675\n",
      "Found wall elements:  http://linkedbuildingdata.net/ifc/resources20170901_130950/IfcBeam_12714\n",
      "Found wall elements:  http://linkedbuildingdata.net/ifc/resources20170901_130950/IfcBeam_12753\n",
      "Found wall elements:  http://linkedbuildingdata.net/ifc/resources20170901_130950/IfcBeam_12791\n",
      "Found wall elements:  http://linkedbuildingdata.net/ifc/resources20170901_130950/IfcBeam_12830\n",
      "Found wall elements:  http://linkedbuildingdata.net/ifc/resources20170901_130950/IfcBeam_12869\n"
     ]
    }
   ],
   "source": [
    "# limiting query results to 10\n",
    "\n",
    "q_findWall = g.query(\"SELECT ?s WHERE { ?s rdf:type  ifcowl:IfcBeam .} LIMIT 10\")\n",
    "for row in q_findWall:\n",
    "    print(f\"Found wall elements:  {row.s}\")"
   ]
  },
  {
   "cell_type": "code",
   "execution_count": 5,
   "id": "43a6d1f3",
   "metadata": {},
   "outputs": [
    {
     "name": "stdout",
     "output_type": "stream",
     "text": [
      "<8> sets of descriptions found:\n",
      "\n",
      "        [predicte]: http://www.w3.org/1999/02/22-rdf-syntax-ns#type\n",
      "        [object]: http://www.buildingsmart-tech.org/ifcOWL/IFC2X3_TC1#IfcWallStandardCase       \n",
      "        \n",
      "\n",
      "        [predicte]: http://www.buildingsmart-tech.org/ifcOWL/IFC2X3_TC1#globalId_IfcRoot\n",
      "        [object]: http://linkedbuildingdata.net/ifc/resources20170901_130950/IfcGloballyUniqueId_11337       \n",
      "        \n",
      "\n",
      "        [predicte]: http://www.buildingsmart-tech.org/ifcOWL/IFC2X3_TC1#ownerHistory_IfcRoot\n",
      "        [object]: http://linkedbuildingdata.net/ifc/resources20170901_130950/IfcOwnerHistory_41       \n",
      "        \n",
      "\n",
      "        [predicte]: http://www.buildingsmart-tech.org/ifcOWL/IFC2X3_TC1#name_IfcRoot\n",
      "        [object]: http://linkedbuildingdata.net/ifc/resources20170901_130950/IfcLabel_10772       \n",
      "        \n",
      "\n",
      "        [predicte]: http://www.buildingsmart-tech.org/ifcOWL/IFC2X3_TC1#objectType_IfcObject\n",
      "        [object]: http://linkedbuildingdata.net/ifc/resources20170901_130950/IfcLabel_10773       \n",
      "        \n",
      "\n",
      "        [predicte]: http://www.buildingsmart-tech.org/ifcOWL/IFC2X3_TC1#objectPlacement_IfcProduct\n",
      "        [object]: http://linkedbuildingdata.net/ifc/resources20170901_130950/IfcLocalPlacement_16820       \n",
      "        \n",
      "\n",
      "        [predicte]: http://www.buildingsmart-tech.org/ifcOWL/IFC2X3_TC1#representation_IfcProduct\n",
      "        [object]: http://linkedbuildingdata.net/ifc/resources20170901_130950/IfcProductDefinitionShape_16838       \n",
      "        \n",
      "\n",
      "        [predicte]: http://www.buildingsmart-tech.org/ifcOWL/IFC2X3_TC1#tag_IfcElement\n",
      "        [object]: http://linkedbuildingdata.net/ifc/resources20170901_130950/IfcIdentifier_11338       \n",
      "        \n"
     ]
    }
   ],
   "source": [
    "q_wall_description = \"\"\"\n",
    "SELECT ?p ?o \n",
    "WHERE { \n",
    "    inst:IfcWallStandardCase_16840 ?p ?o .\n",
    "}\"\"\"\n",
    "q_res = g.query(q_wall_description)\n",
    "print(\"<{}> sets of descriptions found:\".format(len(q_res)))\n",
    "for row in q_res:\n",
    "        print(\"\"\"\n",
    "        [predicte]: {}\n",
    "        [object]: {}       \n",
    "        \"\"\".format(row.p, row.o))"
   ]
  },
  {
   "cell_type": "code",
   "execution_count": 6,
   "id": "bb4ce1fa",
   "metadata": {
    "scrolled": true
   },
   "outputs": [
    {
     "name": "stdout",
     "output_type": "stream",
     "text": [
      "<8> sets of descriptions found:\n",
      "\n",
      "        [predicte]: http://www.w3.org/1999/02/22-rdf-syntax-ns#type\n",
      "        [object]: http://www.buildingsmart-tech.org/ifcOWL/IFC2X3_TC1#IfcBeam       \n",
      "        \n",
      "\n",
      "        [predicte]: http://www.buildingsmart-tech.org/ifcOWL/IFC2X3_TC1#globalId_IfcRoot\n",
      "        [object]: http://linkedbuildingdata.net/ifc/resources20170901_130950/IfcGloballyUniqueId_20756       \n",
      "        \n",
      "\n",
      "        [predicte]: http://www.buildingsmart-tech.org/ifcOWL/IFC2X3_TC1#ownerHistory_IfcRoot\n",
      "        [object]: http://linkedbuildingdata.net/ifc/resources20170901_130950/IfcOwnerHistory_41       \n",
      "        \n",
      "\n",
      "        [predicte]: http://www.buildingsmart-tech.org/ifcOWL/IFC2X3_TC1#name_IfcRoot\n",
      "        [object]: http://linkedbuildingdata.net/ifc/resources20170901_130950/IfcLabel_20757       \n",
      "        \n",
      "\n",
      "        [predicte]: http://www.buildingsmart-tech.org/ifcOWL/IFC2X3_TC1#objectType_IfcObject\n",
      "        [object]: http://linkedbuildingdata.net/ifc/resources20170901_130950/IfcLabel_20758       \n",
      "        \n",
      "\n",
      "        [predicte]: http://www.buildingsmart-tech.org/ifcOWL/IFC2X3_TC1#objectPlacement_IfcProduct\n",
      "        [object]: http://linkedbuildingdata.net/ifc/resources20170901_130950/IfcLocalPlacement_12773       \n",
      "        \n",
      "\n",
      "        [predicte]: http://www.buildingsmart-tech.org/ifcOWL/IFC2X3_TC1#representation_IfcProduct\n",
      "        [object]: http://linkedbuildingdata.net/ifc/resources20170901_130950/IfcProductDefinitionShape_12789       \n",
      "        \n",
      "\n",
      "        [predicte]: http://www.buildingsmart-tech.org/ifcOWL/IFC2X3_TC1#tag_IfcElement\n",
      "        [object]: http://linkedbuildingdata.net/ifc/resources20170901_130950/IfcIdentifier_20759       \n",
      "        \n"
     ]
    }
   ],
   "source": [
    "q_beam_description = \"\"\"\n",
    "SELECT ?p ?o \n",
    "WHERE { \n",
    "    inst:IfcBeam_12791 ?p ?o .\n",
    "}\"\"\"\n",
    "\n",
    "q_res = g.query(q_beam_description)\n",
    "print(\"<{}> sets of descriptions found:\".format(len(q_res)))\n",
    "for row in q_res:\n",
    "        print(\"\"\"\n",
    "        [predicte]: {}\n",
    "        [object]: {}       \n",
    "        \"\"\".format(row.p, row.o)) "
   ]
  },
  {
   "cell_type": "markdown",
   "id": "87e3c391",
   "metadata": {},
   "source": [
    "## Semantic embedding learning"
   ]
  },
  {
   "cell_type": "code",
   "execution_count": 7,
   "id": "2a5b7956",
   "metadata": {},
   "outputs": [],
   "source": [
    "import matplotlib.pyplot as plt\n",
    "from sklearn.manifold import TSNE\n",
    "from pyrdf2vec import RDF2VecTransformer\n",
    "from pyrdf2vec.embedders import Word2Vec\n",
    "from pyrdf2vec.graphs import KG\n",
    "from pyrdf2vec.samplers import WideSampler\n",
    "from pyrdf2vec.walkers import HALKWalker\n",
    "from pyrdf2vec.walkers import RandomWalker"
   ]
  },
  {
   "cell_type": "code",
   "execution_count": 8,
   "id": "63bb6bc3",
   "metadata": {},
   "outputs": [],
   "source": [
    "# create DataFrame from beam and wall entities \n",
    "df = pd.read_csv(\"Data/isarc2021/isarc_data.csv\")"
   ]
  },
  {
   "cell_type": "markdown",
   "id": "b311ac2a",
   "metadata": {},
   "source": [
    "**Note:** The following blocks were inspired from https://github.com/IBCNServices/pyRDF2Vec "
   ]
  },
  {
   "cell_type": "code",
   "execution_count": 9,
   "id": "03f1c163",
   "metadata": {},
   "outputs": [
    {
     "name": "stderr",
     "output_type": "stream",
     "text": [
      "100%|████████████████████████████████████████| 205/205 [00:01<00:00, 106.51it/s]\n"
     ]
    },
    {
     "name": "stdout",
     "output_type": "stream",
     "text": [
      "Extracted 5535 walks for 205 entities (2.1409s)\n",
      "Fitted 5535 walks (0.2270s)\n",
      "Leanring done\n"
     ]
    }
   ],
   "source": [
    "entities = [entity for entity in df[\"object\"]]\n",
    "\n",
    "RANDOM_STATE = 22\n",
    "\n",
    "\n",
    "embeddings, literals = RDF2VecTransformer(\n",
    "    Word2Vec(workers=1, epochs=10),\n",
    "    walkers=[\n",
    "        HALKWalker(\n",
    "            2,\n",
    "            None,\n",
    "            n_jobs=2,\n",
    "            sampler=WideSampler(),\n",
    "            random_state=RANDOM_STATE,\n",
    "            md5_bytes=None,\n",
    "        )\n",
    "    ],\n",
    "    verbose=1,\n",
    ").fit_transform(\n",
    "    KG(\"Data/02_BIMcollab_Example_STR.owl\",\n",
    "       skip_predicates={\n",
    "            'http://www.w3.org/1999/02/22/-rdf-syntax-ns#type'\n",
    "        }\n",
    "    ),\n",
    "    entities\n",
    ")\n",
    "\n",
    "print(\"Leanring done\")"
   ]
  },
  {
   "cell_type": "markdown",
   "id": "780f3c6e",
   "metadata": {},
   "source": [
    "## Data visulization"
   ]
  },
  {
   "cell_type": "code",
   "execution_count": 10,
   "id": "22dd51eb",
   "metadata": {
    "scrolled": false
   },
   "outputs": [
    {
     "data": {
      "image/png": "[encoded data removed]",
      "text/plain": [
       "<Figure size 720x720 with 1 Axes>"
      ]
     },
     "metadata": {
      "needs_background": "light"
     },
     "output_type": "display_data"
    }
   ],
   "source": [
    "# 2D visualization of the learned embeddings using t-SNE algorithm\n",
    "walk_tsne = TSNE(random_state=42)\n",
    "X_tsne = walk_tsne.fit_transform(embeddings)\n",
    "\n",
    "plt.figure(figsize=(10, 10))\n",
    "\n",
    "plt.scatter(X_tsne[0:90, 0], X_tsne[0:90, 1], s=100, c=\"r\", label='Beam')\n",
    "plt.scatter(X_tsne[91:, 0], X_tsne[91:, 1], s=100, label='Wall')\n",
    "plt.legend()\n",
    "plt.show()"
   ]
  }
 ],
 "metadata": {
  "kernelspec": {
   "display_name": "Python 3 (ipykernel)",
   "language": "python",
   "name": "python3"
  },
  "language_info": {
   "codemirror_mode": {
    "name": "ipython",
    "version": 3
   },
   "file_extension": ".py",
   "mimetype": "text/x-python",
   "name": "python",
   "nbconvert_exporter": "python",
   "pygments_lexer": "ipython3",
   "version": "3.9.7"
  }
 },
 "nbformat": 4,
 "nbformat_minor": 5
}
